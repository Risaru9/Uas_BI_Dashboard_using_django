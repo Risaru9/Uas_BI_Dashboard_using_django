{
 "cells": [
  {
   "cell_type": "markdown",
   "id": "a3d327b4",
   "metadata": {},
   "source": [
    "EXTRACT"
   ]
  },
  {
   "cell_type": "code",
   "execution_count": 1,
   "id": "192af15a",
   "metadata": {},
   "outputs": [
    {
     "data": {
      "text/html": [
       "<div>\n",
       "<style scoped>\n",
       "    .dataframe tbody tr th:only-of-type {\n",
       "        vertical-align: middle;\n",
       "    }\n",
       "\n",
       "    .dataframe tbody tr th {\n",
       "        vertical-align: top;\n",
       "    }\n",
       "\n",
       "    .dataframe thead th {\n",
       "        text-align: right;\n",
       "    }\n",
       "</style>\n",
       "<table border=\"1\" class=\"dataframe\">\n",
       "  <thead>\n",
       "    <tr style=\"text-align: right;\">\n",
       "      <th></th>\n",
       "      <th>transaction_id</th>\n",
       "      <th>customer_id</th>\n",
       "      <th>transaction_date</th>\n",
       "      <th>total_amount</th>\n",
       "      <th>payment_method</th>\n",
       "      <th>shipping_method</th>\n",
       "      <th>delivery_time</th>\n",
       "      <th>coupon_code</th>\n",
       "      <th>city</th>\n",
       "      <th>product_id</th>\n",
       "      <th>sales_factor</th>\n",
       "    </tr>\n",
       "  </thead>\n",
       "  <tbody>\n",
       "    <tr>\n",
       "      <th>0</th>\n",
       "      <td>1</td>\n",
       "      <td>506</td>\n",
       "      <td>2023-07-22</td>\n",
       "      <td>11300000.0</td>\n",
       "      <td>Cash on Delivery</td>\n",
       "      <td>Tiki</td>\n",
       "      <td>1 minggu</td>\n",
       "      <td>GRATISONGKIR</td>\n",
       "      <td>Jakarta</td>\n",
       "      <td>12</td>\n",
       "      <td>0.7</td>\n",
       "    </tr>\n",
       "    <tr>\n",
       "      <th>1</th>\n",
       "      <td>2</td>\n",
       "      <td>23275</td>\n",
       "      <td>2024-07-01</td>\n",
       "      <td>11053000.0</td>\n",
       "      <td>DANA</td>\n",
       "      <td>Tiki</td>\n",
       "      <td>2-3 hari</td>\n",
       "      <td>SALE20</td>\n",
       "      <td>Bandung</td>\n",
       "      <td>3</td>\n",
       "      <td>0.9</td>\n",
       "    </tr>\n",
       "    <tr>\n",
       "      <th>2</th>\n",
       "      <td>3</td>\n",
       "      <td>24101</td>\n",
       "      <td>2022-11-01</td>\n",
       "      <td>12741000.0</td>\n",
       "      <td>Transfer Bank</td>\n",
       "      <td>JNE</td>\n",
       "      <td>4-5 hari</td>\n",
       "      <td>NaN</td>\n",
       "      <td>Bandung</td>\n",
       "      <td>5</td>\n",
       "      <td>0.8</td>\n",
       "    </tr>\n",
       "    <tr>\n",
       "      <th>3</th>\n",
       "      <td>4</td>\n",
       "      <td>24188</td>\n",
       "      <td>2022-02-04</td>\n",
       "      <td>4921000.0</td>\n",
       "      <td>OVO</td>\n",
       "      <td>JNE</td>\n",
       "      <td>4-5 hari</td>\n",
       "      <td>SALE20</td>\n",
       "      <td>Yogyakarta</td>\n",
       "      <td>10</td>\n",
       "      <td>0.6</td>\n",
       "    </tr>\n",
       "    <tr>\n",
       "      <th>4</th>\n",
       "      <td>5</td>\n",
       "      <td>33766</td>\n",
       "      <td>2022-02-06</td>\n",
       "      <td>2163000.0</td>\n",
       "      <td>Transfer Bank</td>\n",
       "      <td>GrabExpress</td>\n",
       "      <td>1 minggu</td>\n",
       "      <td>NaN</td>\n",
       "      <td>Jakarta</td>\n",
       "      <td>11</td>\n",
       "      <td>0.7</td>\n",
       "    </tr>\n",
       "  </tbody>\n",
       "</table>\n",
       "</div>"
      ],
      "text/plain": [
       "   transaction_id  customer_id transaction_date  total_amount  \\\n",
       "0               1          506       2023-07-22    11300000.0   \n",
       "1               2        23275       2024-07-01    11053000.0   \n",
       "2               3        24101       2022-11-01    12741000.0   \n",
       "3               4        24188       2022-02-04     4921000.0   \n",
       "4               5        33766       2022-02-06     2163000.0   \n",
       "\n",
       "     payment_method shipping_method delivery_time   coupon_code        city  \\\n",
       "0  Cash on Delivery            Tiki      1 minggu  GRATISONGKIR     Jakarta   \n",
       "1              DANA            Tiki      2-3 hari        SALE20     Bandung   \n",
       "2     Transfer Bank             JNE      4-5 hari           NaN     Bandung   \n",
       "3               OVO             JNE      4-5 hari        SALE20  Yogyakarta   \n",
       "4     Transfer Bank     GrabExpress      1 minggu           NaN     Jakarta   \n",
       "\n",
       "   product_id  sales_factor  \n",
       "0          12           0.7  \n",
       "1           3           0.9  \n",
       "2           5           0.8  \n",
       "3          10           0.6  \n",
       "4          11           0.7  "
      ]
     },
     "execution_count": 1,
     "metadata": {},
     "output_type": "execute_result"
    }
   ],
   "source": [
    "import pandas as pd\n",
    "\n",
    "# EXTRACT\n",
    "df = pd.read_csv(\"transactions_ip.csv\")\n",
    "df['transaction_date'] = pd.to_datetime(df['transaction_date'], errors='coerce')\n",
    "\n",
    "# Simpan untuk referensi\n",
    "df.to_csv(\"/tmp/extracted_shipping.csv\", index=False)\n",
    "df.head()"
   ]
  },
  {
   "cell_type": "markdown",
   "id": "9ec09479",
   "metadata": {},
   "source": [
    "TRANSFORM"
   ]
  },
  {
   "cell_type": "markdown",
   "id": "ccf0d60f",
   "metadata": {},
   "source": [
    "dim_date"
   ]
  },
  {
   "cell_type": "code",
   "execution_count": 2,
   "id": "e54a569e",
   "metadata": {},
   "outputs": [],
   "source": [
    "dim_date = df[['transaction_date']].drop_duplicates().copy()\n",
    "dim_date['date_id'] = dim_date['transaction_date'].dt.strftime('%Y%m%d').astype(int)\n",
    "dim_date['year'] = dim_date['transaction_date'].dt.year\n",
    "dim_date['month'] = dim_date['transaction_date'].dt.month\n",
    "dim_date['day'] = dim_date['transaction_date'].dt.day"
   ]
  },
  {
   "cell_type": "markdown",
   "id": "d10a44a1",
   "metadata": {},
   "source": [
    "dim_city"
   ]
  },
  {
   "cell_type": "code",
   "execution_count": 3,
   "id": "2d6c42ea",
   "metadata": {},
   "outputs": [],
   "source": [
    "dim_city = df[['city']].drop_duplicates().copy()\n",
    "dim_city['city_id'] = dim_city.index + 1"
   ]
  },
  {
   "cell_type": "markdown",
   "id": "f2f46227",
   "metadata": {},
   "source": [
    "dim_shipping_method"
   ]
  },
  {
   "cell_type": "code",
   "execution_count": 4,
   "id": "f114e04f",
   "metadata": {},
   "outputs": [],
   "source": [
    "dim_shipping_method = df[['shipping_method']].drop_duplicates().copy()\n",
    "dim_shipping_method['shipping_method_id'] = dim_shipping_method.index + 1"
   ]
  },
  {
   "cell_type": "markdown",
   "id": "92307471",
   "metadata": {},
   "source": [
    "dim_delivery_category"
   ]
  },
  {
   "cell_type": "code",
   "execution_count": 5,
   "id": "48dd8059",
   "metadata": {},
   "outputs": [],
   "source": [
    "def categorize_delivery_time(val):\n",
    "    val = str(val).lower()\n",
    "    if '1' in val:\n",
    "        return 'Cepat'\n",
    "    elif '2-3' in val or '2' in val or '3' in val:\n",
    "        return 'Sedang'\n",
    "    elif '4' in val or '5' in val or 'minggu' in val:\n",
    "        return 'Lambat'\n",
    "    return 'Tidak Diketahui'\n",
    "\n",
    "df['delivery_category'] = df['delivery_time'].fillna('Tidak Diketahui').apply(categorize_delivery_time)\n",
    "\n",
    "dim_delivery_category = df[['delivery_category']].drop_duplicates().copy()\n",
    "dim_delivery_category['delivery_category_id'] = dim_delivery_category.index + 1\n"
   ]
  },
  {
   "cell_type": "markdown",
   "id": "0de9ad64",
   "metadata": {},
   "source": [
    "fact_shipping"
   ]
  },
  {
   "cell_type": "code",
   "execution_count": 6,
   "id": "170c3499",
   "metadata": {},
   "outputs": [],
   "source": [
    "fact_shipping = df.merge(dim_date, on='transaction_date') \\\n",
    "                  .merge(dim_city, on='city') \\\n",
    "                  .merge(dim_shipping_method, on='shipping_method') \\\n",
    "                  .merge(dim_delivery_category, on='delivery_category')\n",
    "\n",
    "fact_shipping = fact_shipping[[\n",
    "    'transaction_id', 'date_id', 'city_id',\n",
    "    'shipping_method_id', 'delivery_category_id'\n",
    "]]"
   ]
  },
  {
   "cell_type": "markdown",
   "id": "1660e8b2",
   "metadata": {},
   "source": [
    "LOAD"
   ]
  },
  {
   "cell_type": "code",
   "execution_count": 7,
   "id": "66843618",
   "metadata": {},
   "outputs": [],
   "source": [
    "dim_date.to_csv(\"/tmp/dim_date_shipping.csv\", index=False)\n",
    "dim_city.to_csv(\"/tmp/dim_city_shipping.csv\", index=False)\n",
    "dim_shipping_method.to_csv(\"/tmp/dim_shipping_method.csv\", index=False)\n",
    "dim_delivery_category.to_csv(\"/tmp/dim_delivery_category.csv\", index=False)\n",
    "fact_shipping.to_csv(\"/tmp/fact_shipping.csv\", index=False)"
   ]
  },
  {
   "cell_type": "code",
   "execution_count": null,
   "id": "cf34b2bd",
   "metadata": {},
   "outputs": [],
   "source": []
  }
 ],
 "metadata": {
  "kernelspec": {
   "display_name": "airflenv",
   "language": "python",
   "name": "python3"
  },
  "language_info": {
   "codemirror_mode": {
    "name": "ipython",
    "version": 3
   },
   "file_extension": ".py",
   "mimetype": "text/x-python",
   "name": "python",
   "nbconvert_exporter": "python",
   "pygments_lexer": "ipython3",
   "version": "3.9.21"
  }
 },
 "nbformat": 4,
 "nbformat_minor": 5
}
